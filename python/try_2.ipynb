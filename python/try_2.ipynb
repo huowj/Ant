{
 "cells": [
  {
   "cell_type": "code",
   "execution_count": 1,
   "metadata": {
    "collapsed": true
   },
   "outputs": [],
   "source": [
    "import pandas as pd"
   ]
  },
  {
   "cell_type": "code",
   "execution_count": 2,
   "metadata": {
    "collapsed": true
   },
   "outputs": [],
   "source": [
    "train = pd.read_csv(\"/hwj/ant/atec_anti_fraud_train.csv\")\n",
    "test_a = pd.read_csv(\"/hwj/ant/atec_anti_fraud_test_a.csv\")\n",
    "test_b = pd.read_csv(\"/hwj/ant/atec_anti_fraud_test_b.csv\")"
   ]
  },
  {
   "cell_type": "code",
   "execution_count": 3,
   "metadata": {},
   "outputs": [
    {
     "data": {
      "text/plain": [
       "[0, 1]"
      ]
     },
     "execution_count": 3,
     "metadata": {},
     "output_type": "execute_result"
    }
   ],
   "source": [
    "train.loc[train['label'] == -1,'label']=1\n",
    "list(set(train.label))"
   ]
  },
  {
   "cell_type": "code",
   "execution_count": 4,
   "metadata": {
    "collapsed": true
   },
   "outputs": [],
   "source": [
    "train = train.fillna(-1)\n",
    "test_b = test_b.fillna(-1)"
   ]
  },
  {
   "cell_type": "code",
   "execution_count": 5,
   "metadata": {
    "collapsed": true
   },
   "outputs": [],
   "source": [
    "validation = train[train[\"date\"] > 20171021]\n",
    "train = train[train[\"date\"] <= 20171021]\n",
    "#train.drop(['id'], axis=1, inplace=True)\n",
    "#train.iloc[0:20,190:210]"
   ]
  },
  {
   "cell_type": "code",
   "execution_count": 7,
   "metadata": {
    "collapsed": true
   },
   "outputs": [],
   "source": [
    "train.drop(['id'], axis=1, inplace=True)"
   ]
  },
  {
   "cell_type": "code",
   "execution_count": 11,
   "metadata": {},
   "outputs": [
    {
     "data": {
      "text/html": [
       "<div>\n",
       "<style>\n",
       "    .dataframe thead tr:only-child th {\n",
       "        text-align: right;\n",
       "    }\n",
       "\n",
       "    .dataframe thead th {\n",
       "        text-align: left;\n",
       "    }\n",
       "\n",
       "    .dataframe tbody tr th {\n",
       "        vertical-align: top;\n",
       "    }\n",
       "</style>\n",
       "<table border=\"1\" class=\"dataframe\">\n",
       "  <thead>\n",
       "    <tr style=\"text-align: right;\">\n",
       "      <th></th>\n",
       "      <th>label</th>\n",
       "      <th>f1</th>\n",
       "      <th>f2</th>\n",
       "      <th>f3</th>\n",
       "      <th>f4</th>\n",
       "      <th>f5</th>\n",
       "      <th>f6</th>\n",
       "      <th>f7</th>\n",
       "      <th>f8</th>\n",
       "      <th>f9</th>\n",
       "      <th>...</th>\n",
       "      <th>f288</th>\n",
       "      <th>f289</th>\n",
       "      <th>f290</th>\n",
       "      <th>f291</th>\n",
       "      <th>f292</th>\n",
       "      <th>f293</th>\n",
       "      <th>f294</th>\n",
       "      <th>f295</th>\n",
       "      <th>f296</th>\n",
       "      <th>f297</th>\n",
       "    </tr>\n",
       "  </thead>\n",
       "  <tbody>\n",
       "    <tr>\n",
       "      <th>1</th>\n",
       "      <td>0</td>\n",
       "      <td>0</td>\n",
       "      <td>1</td>\n",
       "      <td>1</td>\n",
       "      <td>1</td>\n",
       "      <td>100805.0</td>\n",
       "      <td>1</td>\n",
       "      <td>5</td>\n",
       "      <td>2</td>\n",
       "      <td>1</td>\n",
       "      <td>...</td>\n",
       "      <td>302.0</td>\n",
       "      <td>324.0</td>\n",
       "      <td>391.0</td>\n",
       "      <td>13.0</td>\n",
       "      <td>302.0</td>\n",
       "      <td>160.0</td>\n",
       "      <td>160.0</td>\n",
       "      <td>161.0</td>\n",
       "      <td>8.0</td>\n",
       "      <td>160.0</td>\n",
       "    </tr>\n",
       "    <tr>\n",
       "      <th>4</th>\n",
       "      <td>0</td>\n",
       "      <td>1</td>\n",
       "      <td>1</td>\n",
       "      <td>0</td>\n",
       "      <td>1</td>\n",
       "      <td>100805.0</td>\n",
       "      <td>1</td>\n",
       "      <td>5</td>\n",
       "      <td>1</td>\n",
       "      <td>2</td>\n",
       "      <td>...</td>\n",
       "      <td>302.0</td>\n",
       "      <td>301.0</td>\n",
       "      <td>301.0</td>\n",
       "      <td>74.0</td>\n",
       "      <td>302.0</td>\n",
       "      <td>182.0</td>\n",
       "      <td>181.0</td>\n",
       "      <td>182.0</td>\n",
       "      <td>51.0</td>\n",
       "      <td>181.0</td>\n",
       "    </tr>\n",
       "    <tr>\n",
       "      <th>5</th>\n",
       "      <td>0</td>\n",
       "      <td>0</td>\n",
       "      <td>0</td>\n",
       "      <td>1</td>\n",
       "      <td>1</td>\n",
       "      <td>100802.0</td>\n",
       "      <td>0</td>\n",
       "      <td>6</td>\n",
       "      <td>2</td>\n",
       "      <td>1</td>\n",
       "      <td>...</td>\n",
       "      <td>6.0</td>\n",
       "      <td>6.0</td>\n",
       "      <td>5.0</td>\n",
       "      <td>5.0</td>\n",
       "      <td>6.0</td>\n",
       "      <td>2.0</td>\n",
       "      <td>1.0</td>\n",
       "      <td>2.0</td>\n",
       "      <td>2.0</td>\n",
       "      <td>2.0</td>\n",
       "    </tr>\n",
       "    <tr>\n",
       "      <th>6</th>\n",
       "      <td>0</td>\n",
       "      <td>0</td>\n",
       "      <td>1</td>\n",
       "      <td>1</td>\n",
       "      <td>0</td>\n",
       "      <td>100805.0</td>\n",
       "      <td>0</td>\n",
       "      <td>6</td>\n",
       "      <td>2</td>\n",
       "      <td>1</td>\n",
       "      <td>...</td>\n",
       "      <td>301.0</td>\n",
       "      <td>301.0</td>\n",
       "      <td>301.0</td>\n",
       "      <td>150.0</td>\n",
       "      <td>301.0</td>\n",
       "      <td>239.0</td>\n",
       "      <td>239.0</td>\n",
       "      <td>239.0</td>\n",
       "      <td>116.0</td>\n",
       "      <td>240.0</td>\n",
       "    </tr>\n",
       "    <tr>\n",
       "      <th>8</th>\n",
       "      <td>0</td>\n",
       "      <td>1</td>\n",
       "      <td>1</td>\n",
       "      <td>1</td>\n",
       "      <td>1</td>\n",
       "      <td>100802.0</td>\n",
       "      <td>0</td>\n",
       "      <td>7</td>\n",
       "      <td>2</td>\n",
       "      <td>1</td>\n",
       "      <td>...</td>\n",
       "      <td>2.0</td>\n",
       "      <td>1.0</td>\n",
       "      <td>1.0</td>\n",
       "      <td>1.0</td>\n",
       "      <td>2.0</td>\n",
       "      <td>2.0</td>\n",
       "      <td>1.0</td>\n",
       "      <td>2.0</td>\n",
       "      <td>2.0</td>\n",
       "      <td>2.0</td>\n",
       "    </tr>\n",
       "  </tbody>\n",
       "</table>\n",
       "<p>5 rows × 298 columns</p>\n",
       "</div>"
      ],
      "text/plain": [
       "   label  f1  f2  f3  f4        f5  f6  f7  f8  f9  ...     f288   f289  \\\n",
       "1      0   0   1   1   1  100805.0   1   5   2   1  ...    302.0  324.0   \n",
       "4      0   1   1   0   1  100805.0   1   5   1   2  ...    302.0  301.0   \n",
       "5      0   0   0   1   1  100802.0   0   6   2   1  ...      6.0    6.0   \n",
       "6      0   0   1   1   0  100805.0   0   6   2   1  ...    301.0  301.0   \n",
       "8      0   1   1   1   1  100802.0   0   7   2   1  ...      2.0    1.0   \n",
       "\n",
       "    f290   f291   f292   f293   f294   f295   f296   f297  \n",
       "1  391.0   13.0  302.0  160.0  160.0  161.0    8.0  160.0  \n",
       "4  301.0   74.0  302.0  182.0  181.0  182.0   51.0  181.0  \n",
       "5    5.0    5.0    6.0    2.0    1.0    2.0    2.0    2.0  \n",
       "6  301.0  150.0  301.0  239.0  239.0  239.0  116.0  240.0  \n",
       "8    1.0    1.0    2.0    2.0    1.0    2.0    2.0    2.0  \n",
       "\n",
       "[5 rows x 298 columns]"
      ]
     },
     "execution_count": 11,
     "metadata": {},
     "output_type": "execute_result"
    }
   ],
   "source": [
    "#train.drop(['date'], axis=1, inplace=True)\n",
    "#train.head()\n",
    "#validation.drop(['id', 'date'], axis=1, inplace=True)\n",
    "#validation.head()\n",
    "train.head()"
   ]
  },
  {
   "cell_type": "code",
   "execution_count": 12,
   "metadata": {
    "collapsed": true
   },
   "outputs": [],
   "source": [
    "#test_ids = test_b.pop('id')\n",
    "#test_b.drop(['date'], axis=1, inplace=True)\n",
    "train_Y = train.pop('label').values\n",
    "train_X = train\n",
    "validation_Y = validation.pop('label').values\n",
    "validation_X = validation"
   ]
  },
  {
   "cell_type": "code",
   "execution_count": 13,
   "metadata": {},
   "outputs": [
    {
     "name": "stdout",
     "output_type": "stream",
     "text": [
      "[0]\tvalidation_0-auc:0.808867\n",
      "Will train until validation_0-auc hasn't improved in 100 rounds.\n",
      "[1]\tvalidation_0-auc:0.819857\n",
      "[2]\tvalidation_0-auc:0.825904\n",
      "[3]\tvalidation_0-auc:0.827449\n",
      "[4]\tvalidation_0-auc:0.827596\n",
      "[5]\tvalidation_0-auc:0.827844\n",
      "[6]\tvalidation_0-auc:0.827913\n",
      "[7]\tvalidation_0-auc:0.827912\n",
      "[8]\tvalidation_0-auc:0.830644\n",
      "[9]\tvalidation_0-auc:0.838732\n",
      "[10]\tvalidation_0-auc:0.838761\n",
      "[11]\tvalidation_0-auc:0.842106\n",
      "[12]\tvalidation_0-auc:0.842076\n",
      "[13]\tvalidation_0-auc:0.842492\n",
      "[14]\tvalidation_0-auc:0.900989\n",
      "[15]\tvalidation_0-auc:0.901603\n",
      "[16]\tvalidation_0-auc:0.948462\n",
      "[17]\tvalidation_0-auc:0.949011\n",
      "[18]\tvalidation_0-auc:0.949445\n",
      "[19]\tvalidation_0-auc:0.949961\n",
      "[20]\tvalidation_0-auc:0.950555\n",
      "[21]\tvalidation_0-auc:0.950689\n",
      "[22]\tvalidation_0-auc:0.950612\n",
      "[23]\tvalidation_0-auc:0.950626\n",
      "[24]\tvalidation_0-auc:0.952206\n",
      "[25]\tvalidation_0-auc:0.955167\n",
      "[26]\tvalidation_0-auc:0.957123\n",
      "[27]\tvalidation_0-auc:0.95824\n",
      "[28]\tvalidation_0-auc:0.959092\n",
      "[29]\tvalidation_0-auc:0.959285\n",
      "[30]\tvalidation_0-auc:0.961838\n",
      "[31]\tvalidation_0-auc:0.962688\n",
      "[32]\tvalidation_0-auc:0.963057\n",
      "[33]\tvalidation_0-auc:0.963251\n",
      "[34]\tvalidation_0-auc:0.964203\n",
      "[35]\tvalidation_0-auc:0.964548\n",
      "[36]\tvalidation_0-auc:0.965115\n",
      "[37]\tvalidation_0-auc:0.965464\n",
      "[38]\tvalidation_0-auc:0.965546\n",
      "[39]\tvalidation_0-auc:0.96617\n",
      "[40]\tvalidation_0-auc:0.966238\n",
      "[41]\tvalidation_0-auc:0.966354\n",
      "[42]\tvalidation_0-auc:0.966368\n",
      "[43]\tvalidation_0-auc:0.96661\n",
      "[44]\tvalidation_0-auc:0.967242\n",
      "[45]\tvalidation_0-auc:0.967561\n",
      "[46]\tvalidation_0-auc:0.967478\n",
      "[47]\tvalidation_0-auc:0.967601\n",
      "[48]\tvalidation_0-auc:0.967758\n",
      "[49]\tvalidation_0-auc:0.967772\n",
      "[50]\tvalidation_0-auc:0.967974\n",
      "[51]\tvalidation_0-auc:0.968052\n",
      "[52]\tvalidation_0-auc:0.968344\n",
      "[53]\tvalidation_0-auc:0.968533\n",
      "[54]\tvalidation_0-auc:0.968889\n",
      "[55]\tvalidation_0-auc:0.969213\n",
      "[56]\tvalidation_0-auc:0.96929\n",
      "[57]\tvalidation_0-auc:0.969385\n",
      "[58]\tvalidation_0-auc:0.969598\n",
      "[59]\tvalidation_0-auc:0.969744\n",
      "[60]\tvalidation_0-auc:0.969805\n",
      "[61]\tvalidation_0-auc:0.969851\n",
      "[62]\tvalidation_0-auc:0.96993\n",
      "[63]\tvalidation_0-auc:0.969973\n",
      "[64]\tvalidation_0-auc:0.970009\n",
      "[65]\tvalidation_0-auc:0.970177\n",
      "[66]\tvalidation_0-auc:0.970292\n",
      "[67]\tvalidation_0-auc:0.970502\n",
      "[68]\tvalidation_0-auc:0.970626\n",
      "[69]\tvalidation_0-auc:0.97072\n",
      "[70]\tvalidation_0-auc:0.970828\n",
      "[71]\tvalidation_0-auc:0.970916\n",
      "[72]\tvalidation_0-auc:0.971067\n",
      "[73]\tvalidation_0-auc:0.971081\n",
      "[74]\tvalidation_0-auc:0.971113\n",
      "[75]\tvalidation_0-auc:0.971223\n",
      "[76]\tvalidation_0-auc:0.971312\n",
      "[77]\tvalidation_0-auc:0.971341\n",
      "[78]\tvalidation_0-auc:0.971458\n",
      "[79]\tvalidation_0-auc:0.971544\n",
      "[80]\tvalidation_0-auc:0.971618\n",
      "[81]\tvalidation_0-auc:0.971712\n",
      "[82]\tvalidation_0-auc:0.971747\n",
      "[83]\tvalidation_0-auc:0.971859\n",
      "[84]\tvalidation_0-auc:0.971952\n",
      "[85]\tvalidation_0-auc:0.971895\n",
      "[86]\tvalidation_0-auc:0.971887\n",
      "[87]\tvalidation_0-auc:0.971904\n",
      "[88]\tvalidation_0-auc:0.971762\n",
      "[89]\tvalidation_0-auc:0.971824\n",
      "[90]\tvalidation_0-auc:0.971862\n",
      "[91]\tvalidation_0-auc:0.971958\n",
      "[92]\tvalidation_0-auc:0.972164\n",
      "[93]\tvalidation_0-auc:0.972212\n",
      "[94]\tvalidation_0-auc:0.972215\n",
      "[95]\tvalidation_0-auc:0.972221\n",
      "[96]\tvalidation_0-auc:0.972274\n",
      "[97]\tvalidation_0-auc:0.972368\n",
      "[98]\tvalidation_0-auc:0.972376\n",
      "[99]\tvalidation_0-auc:0.972422\n"
     ]
    },
    {
     "data": {
      "text/plain": [
       "XGBClassifier(base_score=0.5, booster='gbtree', colsample_bylevel=1,\n",
       "       colsample_bytree=1, gamma=0, learning_rate=0.1, max_delta_step=0,\n",
       "       max_depth=3, min_child_weight=1, missing=None, n_estimators=100,\n",
       "       n_jobs=1, nthread=None, objective='binary:logistic', random_state=0,\n",
       "       reg_alpha=0, reg_lambda=1, scale_pos_weight=1, seed=None,\n",
       "       silent=True, subsample=1)"
      ]
     },
     "execution_count": 13,
     "metadata": {},
     "output_type": "execute_result"
    }
   ],
   "source": [
    "from xgboost import XGBClassifier\n",
    "model = XGBClassifier()\n",
    "eval_set = [(validation_X, validation_Y)]\n",
    "model.fit(train_X, train_Y, early_stopping_rounds=100, eval_metric=\"auc\", eval_set=eval_set)"
   ]
  },
  {
   "cell_type": "code",
   "execution_count": 67,
   "metadata": {
    "collapsed": true
   },
   "outputs": [],
   "source": [
    "from xgboost import XGBClassifier\n",
    "model = XGBClassifier()\n",
    "eval_set = [(validation_X, validation_Y)]\n",
    "model.fit(train_X, train_Y, early_stopping_rounds=10, eval_metric=\"auc\", eval_set=eval_set)"
   ]
  },
  {
   "cell_type": "code",
   "execution_count": 14,
   "metadata": {
    "collapsed": true
   },
   "outputs": [],
   "source": [
    "test_ids = test_b.pop('id')\n",
    "test_b.drop(['date'], axis=1, inplace=True)"
   ]
  },
  {
   "cell_type": "code",
   "execution_count": 15,
   "metadata": {
    "collapsed": true
   },
   "outputs": [],
   "source": [
    "test_b.head()\n",
    "test_X = test_b"
   ]
  },
  {
   "cell_type": "code",
   "execution_count": 16,
   "metadata": {
    "collapsed": true
   },
   "outputs": [],
   "source": [
    "test_pred = model.predict_proba(test_X)"
   ]
  },
  {
   "cell_type": "code",
   "execution_count": 17,
   "metadata": {
    "collapsed": true
   },
   "outputs": [],
   "source": [
    "rst = pd.DataFrame()\n",
    "rst['id'] = test_ids\n",
    "rst['score'] = test_pred[:,1]"
   ]
  },
  {
   "cell_type": "code",
   "execution_count": 18,
   "metadata": {
    "collapsed": true
   },
   "outputs": [],
   "source": [
    "rst[['id', 'score']].to_csv('/hwj/ant/xgb_ant_b_2.csv', index=False, sep=',')"
   ]
  },
  {
   "cell_type": "code",
   "execution_count": 24,
   "metadata": {},
   "outputs": [
    {
     "data": {
      "text/plain": [
       "(array([], dtype=int64), array([], dtype=int64))"
      ]
     },
     "execution_count": 24,
     "metadata": {},
     "output_type": "execute_result"
    }
   ],
   "source": [
    "import numpy as np\n",
    "np.where(np.isnan(train))"
   ]
  },
  {
   "cell_type": "code",
   "execution_count": 25,
   "metadata": {},
   "outputs": [
    {
     "data": {
      "text/plain": [
       "(array([], dtype=int64), array([], dtype=int64))"
      ]
     },
     "execution_count": 25,
     "metadata": {},
     "output_type": "execute_result"
    }
   ],
   "source": [
    "np.where(np.isnan(validation))"
   ]
  },
  {
   "cell_type": "code",
   "execution_count": 76,
   "metadata": {
    "collapsed": true
   },
   "outputs": [],
   "source": [
    "rst[['id', 'score']].to_csv('/root/ant/xgb_ant_b.csv', index=False, sep=',')"
   ]
  },
  {
   "cell_type": "code",
   "execution_count": 92,
   "metadata": {
    "collapsed": true
   },
   "outputs": [],
   "source": [
    "test_pred_1 = model.predict_proba(test_X)"
   ]
  },
  {
   "cell_type": "code",
   "execution_count": 97,
   "metadata": {},
   "outputs": [
    {
     "data": {
      "text/plain": [
       "array([ 0.00174808,  0.00046895,  0.00295542, ...,  0.00849326,\n",
       "        0.05301582,  0.00839583], dtype=float32)"
      ]
     },
     "execution_count": 97,
     "metadata": {},
     "output_type": "execute_result"
    }
   ],
   "source": [
    "test_pred_1[:,1]"
   ]
  },
  {
   "cell_type": "code",
   "execution_count": 98,
   "metadata": {},
   "outputs": [
    {
     "data": {
      "text/plain": [
       "array([[  9.98251915e-01,   1.74807943e-03],\n",
       "       [  9.99531031e-01,   4.68945189e-04],\n",
       "       [  9.97044563e-01,   2.95541622e-03],\n",
       "       ..., \n",
       "       [  9.91506755e-01,   8.49325862e-03],\n",
       "       [  9.46984172e-01,   5.30158170e-02],\n",
       "       [  9.91604149e-01,   8.39582644e-03]], dtype=float32)"
      ]
     },
     "execution_count": 98,
     "metadata": {},
     "output_type": "execute_result"
    }
   ],
   "source": [
    "test_pred_1"
   ]
  },
  {
   "cell_type": "code",
   "execution_count": 99,
   "metadata": {
    "collapsed": true
   },
   "outputs": [],
   "source": [
    "rst = pd.DataFrame()\n",
    "rst['id'] = test_ids\n",
    "rst['score'] = test_pred_1[:,1]"
   ]
  },
  {
   "cell_type": "code",
   "execution_count": 100,
   "metadata": {},
   "outputs": [
    {
     "data": {
      "text/html": [
       "<div>\n",
       "<style>\n",
       "    .dataframe thead tr:only-child th {\n",
       "        text-align: right;\n",
       "    }\n",
       "\n",
       "    .dataframe thead th {\n",
       "        text-align: left;\n",
       "    }\n",
       "\n",
       "    .dataframe tbody tr th {\n",
       "        vertical-align: top;\n",
       "    }\n",
       "</style>\n",
       "<table border=\"1\" class=\"dataframe\">\n",
       "  <thead>\n",
       "    <tr style=\"text-align: right;\">\n",
       "      <th></th>\n",
       "      <th>id</th>\n",
       "      <th>score</th>\n",
       "    </tr>\n",
       "  </thead>\n",
       "  <tbody>\n",
       "    <tr>\n",
       "      <th>0</th>\n",
       "      <td>661ae9a03c6c74feab2555c9987e140ae3f5421bd8e7a0...</td>\n",
       "      <td>0.001748</td>\n",
       "    </tr>\n",
       "    <tr>\n",
       "      <th>1</th>\n",
       "      <td>ada98d4358e72a27cc5e92f691a87a4fd62a7cda0387e2...</td>\n",
       "      <td>0.000469</td>\n",
       "    </tr>\n",
       "    <tr>\n",
       "      <th>2</th>\n",
       "      <td>e33675a962e5bf44d05a2b01903a4beb88a0c6385c05c6...</td>\n",
       "      <td>0.002955</td>\n",
       "    </tr>\n",
       "    <tr>\n",
       "      <th>3</th>\n",
       "      <td>4c5da176de7172dbd1ad0aa7edf9866548ec720d6c7318...</td>\n",
       "      <td>0.026871</td>\n",
       "    </tr>\n",
       "    <tr>\n",
       "      <th>4</th>\n",
       "      <td>fa39e3491900d49b862d30b5dbcd0b1c30bb4ff0d96396...</td>\n",
       "      <td>0.020080</td>\n",
       "    </tr>\n",
       "  </tbody>\n",
       "</table>\n",
       "</div>"
      ],
      "text/plain": [
       "                                                  id     score\n",
       "0  661ae9a03c6c74feab2555c9987e140ae3f5421bd8e7a0...  0.001748\n",
       "1  ada98d4358e72a27cc5e92f691a87a4fd62a7cda0387e2...  0.000469\n",
       "2  e33675a962e5bf44d05a2b01903a4beb88a0c6385c05c6...  0.002955\n",
       "3  4c5da176de7172dbd1ad0aa7edf9866548ec720d6c7318...  0.026871\n",
       "4  fa39e3491900d49b862d30b5dbcd0b1c30bb4ff0d96396...  0.020080"
      ]
     },
     "execution_count": 100,
     "metadata": {},
     "output_type": "execute_result"
    }
   ],
   "source": [
    "rst.head()"
   ]
  },
  {
   "cell_type": "code",
   "execution_count": 101,
   "metadata": {
    "collapsed": true
   },
   "outputs": [],
   "source": [
    "rst[['id', 'score']].to_csv('/root/ant/xgb_ant_b.csv', index=False, sep=',')"
   ]
  },
  {
   "cell_type": "code",
   "execution_count": null,
   "metadata": {
    "collapsed": true
   },
   "outputs": [],
   "source": []
  }
 ],
 "metadata": {
  "kernelspec": {
   "display_name": "Python 3",
   "language": "python",
   "name": "python3"
  },
  "language_info": {
   "codemirror_mode": {
    "name": "ipython",
    "version": 3
   },
   "file_extension": ".py",
   "mimetype": "text/x-python",
   "name": "python",
   "nbconvert_exporter": "python",
   "pygments_lexer": "ipython3",
   "version": "3.6.3"
  }
 },
 "nbformat": 4,
 "nbformat_minor": 2
}
