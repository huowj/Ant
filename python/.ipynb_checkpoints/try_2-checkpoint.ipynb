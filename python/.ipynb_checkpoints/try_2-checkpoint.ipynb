{
 "cells": [
  {
   "cell_type": "code",
   "execution_count": 57,
   "metadata": {
    "collapsed": true
   },
   "outputs": [],
   "source": [
    "import pandas as pd"
   ]
  },
  {
   "cell_type": "code",
   "execution_count": 58,
   "metadata": {
    "collapsed": true
   },
   "outputs": [],
   "source": [
    "train = pd.read_csv(\"/root/ant/atec_anti_fraud_train.csv\")\n",
    "test_a = pd.read_csv(\"/root/ant/atec_anti_fraud_test_a.csv\")\n",
    "test_b = pd.read_csv(\"/root/ant/atec_anti_fraud_test_b.csv\")"
   ]
  },
  {
   "cell_type": "code",
   "execution_count": 59,
   "metadata": {},
   "outputs": [
    {
     "data": {
      "text/plain": [
       "[0, 1]"
      ]
     },
     "execution_count": 59,
     "metadata": {},
     "output_type": "execute_result"
    }
   ],
   "source": [
    "train.loc[train['label'] == -1,'label']=1\n",
    "list(set(train.label))"
   ]
  },
  {
   "cell_type": "code",
   "execution_count": 60,
   "metadata": {
    "collapsed": true
   },
   "outputs": [],
   "source": [
    "validation = train[train[\"date\"] > 20171021]"
   ]
  },
  {
   "cell_type": "code",
   "execution_count": 61,
   "metadata": {
    "collapsed": true
   },
   "outputs": [],
   "source": [
    "train = train[train[\"date\"] <= 20171021]"
   ]
  },
  {
   "cell_type": "code",
   "execution_count": 62,
   "metadata": {
    "collapsed": true
   },
   "outputs": [],
   "source": [
    "train.drop(['id', 'date'], axis=1, inplace=True)"
   ]
  },
  {
   "cell_type": "code",
   "execution_count": 63,
   "metadata": {},
   "outputs": [
    {
     "data": {
      "text/html": [
       "<div>\n",
       "<style>\n",
       "    .dataframe thead tr:only-child th {\n",
       "        text-align: right;\n",
       "    }\n",
       "\n",
       "    .dataframe thead th {\n",
       "        text-align: left;\n",
       "    }\n",
       "\n",
       "    .dataframe tbody tr th {\n",
       "        vertical-align: top;\n",
       "    }\n",
       "</style>\n",
       "<table border=\"1\" class=\"dataframe\">\n",
       "  <thead>\n",
       "    <tr style=\"text-align: right;\">\n",
       "      <th></th>\n",
       "      <th>label</th>\n",
       "      <th>f1</th>\n",
       "      <th>f2</th>\n",
       "      <th>f3</th>\n",
       "      <th>f4</th>\n",
       "      <th>f5</th>\n",
       "      <th>f6</th>\n",
       "      <th>f7</th>\n",
       "      <th>f8</th>\n",
       "      <th>f9</th>\n",
       "      <th>...</th>\n",
       "      <th>f288</th>\n",
       "      <th>f289</th>\n",
       "      <th>f290</th>\n",
       "      <th>f291</th>\n",
       "      <th>f292</th>\n",
       "      <th>f293</th>\n",
       "      <th>f294</th>\n",
       "      <th>f295</th>\n",
       "      <th>f296</th>\n",
       "      <th>f297</th>\n",
       "    </tr>\n",
       "  </thead>\n",
       "  <tbody>\n",
       "    <tr>\n",
       "      <th>1</th>\n",
       "      <td>0</td>\n",
       "      <td>0</td>\n",
       "      <td>1</td>\n",
       "      <td>1</td>\n",
       "      <td>1</td>\n",
       "      <td>100805.0</td>\n",
       "      <td>1</td>\n",
       "      <td>5</td>\n",
       "      <td>2</td>\n",
       "      <td>1</td>\n",
       "      <td>...</td>\n",
       "      <td>302.0</td>\n",
       "      <td>324.0</td>\n",
       "      <td>391.0</td>\n",
       "      <td>13.0</td>\n",
       "      <td>302.0</td>\n",
       "      <td>160.0</td>\n",
       "      <td>160.0</td>\n",
       "      <td>161.0</td>\n",
       "      <td>8.0</td>\n",
       "      <td>160.0</td>\n",
       "    </tr>\n",
       "    <tr>\n",
       "      <th>4</th>\n",
       "      <td>0</td>\n",
       "      <td>1</td>\n",
       "      <td>1</td>\n",
       "      <td>0</td>\n",
       "      <td>1</td>\n",
       "      <td>100805.0</td>\n",
       "      <td>1</td>\n",
       "      <td>5</td>\n",
       "      <td>1</td>\n",
       "      <td>2</td>\n",
       "      <td>...</td>\n",
       "      <td>302.0</td>\n",
       "      <td>301.0</td>\n",
       "      <td>301.0</td>\n",
       "      <td>74.0</td>\n",
       "      <td>302.0</td>\n",
       "      <td>182.0</td>\n",
       "      <td>181.0</td>\n",
       "      <td>182.0</td>\n",
       "      <td>51.0</td>\n",
       "      <td>181.0</td>\n",
       "    </tr>\n",
       "    <tr>\n",
       "      <th>5</th>\n",
       "      <td>0</td>\n",
       "      <td>0</td>\n",
       "      <td>0</td>\n",
       "      <td>1</td>\n",
       "      <td>1</td>\n",
       "      <td>100802.0</td>\n",
       "      <td>0</td>\n",
       "      <td>6</td>\n",
       "      <td>2</td>\n",
       "      <td>1</td>\n",
       "      <td>...</td>\n",
       "      <td>6.0</td>\n",
       "      <td>6.0</td>\n",
       "      <td>5.0</td>\n",
       "      <td>5.0</td>\n",
       "      <td>6.0</td>\n",
       "      <td>2.0</td>\n",
       "      <td>1.0</td>\n",
       "      <td>2.0</td>\n",
       "      <td>2.0</td>\n",
       "      <td>2.0</td>\n",
       "    </tr>\n",
       "    <tr>\n",
       "      <th>6</th>\n",
       "      <td>0</td>\n",
       "      <td>0</td>\n",
       "      <td>1</td>\n",
       "      <td>1</td>\n",
       "      <td>0</td>\n",
       "      <td>100805.0</td>\n",
       "      <td>0</td>\n",
       "      <td>6</td>\n",
       "      <td>2</td>\n",
       "      <td>1</td>\n",
       "      <td>...</td>\n",
       "      <td>301.0</td>\n",
       "      <td>301.0</td>\n",
       "      <td>301.0</td>\n",
       "      <td>150.0</td>\n",
       "      <td>301.0</td>\n",
       "      <td>239.0</td>\n",
       "      <td>239.0</td>\n",
       "      <td>239.0</td>\n",
       "      <td>116.0</td>\n",
       "      <td>240.0</td>\n",
       "    </tr>\n",
       "    <tr>\n",
       "      <th>8</th>\n",
       "      <td>0</td>\n",
       "      <td>1</td>\n",
       "      <td>1</td>\n",
       "      <td>1</td>\n",
       "      <td>1</td>\n",
       "      <td>100802.0</td>\n",
       "      <td>0</td>\n",
       "      <td>7</td>\n",
       "      <td>2</td>\n",
       "      <td>1</td>\n",
       "      <td>...</td>\n",
       "      <td>2.0</td>\n",
       "      <td>1.0</td>\n",
       "      <td>1.0</td>\n",
       "      <td>1.0</td>\n",
       "      <td>2.0</td>\n",
       "      <td>2.0</td>\n",
       "      <td>1.0</td>\n",
       "      <td>2.0</td>\n",
       "      <td>2.0</td>\n",
       "      <td>2.0</td>\n",
       "    </tr>\n",
       "  </tbody>\n",
       "</table>\n",
       "<p>5 rows × 298 columns</p>\n",
       "</div>"
      ],
      "text/plain": [
       "   label  f1  f2  f3  f4        f5  f6  f7  f8  f9  ...     f288   f289  \\\n",
       "1      0   0   1   1   1  100805.0   1   5   2   1  ...    302.0  324.0   \n",
       "4      0   1   1   0   1  100805.0   1   5   1   2  ...    302.0  301.0   \n",
       "5      0   0   0   1   1  100802.0   0   6   2   1  ...      6.0    6.0   \n",
       "6      0   0   1   1   0  100805.0   0   6   2   1  ...    301.0  301.0   \n",
       "8      0   1   1   1   1  100802.0   0   7   2   1  ...      2.0    1.0   \n",
       "\n",
       "    f290   f291   f292   f293   f294   f295   f296   f297  \n",
       "1  391.0   13.0  302.0  160.0  160.0  161.0    8.0  160.0  \n",
       "4  301.0   74.0  302.0  182.0  181.0  182.0   51.0  181.0  \n",
       "5    5.0    5.0    6.0    2.0    1.0    2.0    2.0    2.0  \n",
       "6  301.0  150.0  301.0  239.0  239.0  239.0  116.0  240.0  \n",
       "8    1.0    1.0    2.0    2.0    1.0    2.0    2.0    2.0  \n",
       "\n",
       "[5 rows x 298 columns]"
      ]
     },
     "execution_count": 63,
     "metadata": {},
     "output_type": "execute_result"
    }
   ],
   "source": [
    "train.head()"
   ]
  },
  {
   "cell_type": "code",
   "execution_count": 65,
   "metadata": {
    "collapsed": true
   },
   "outputs": [],
   "source": [
    "test_ids = test_b.pop('id')\n",
    "test_b.drop(['date'], axis=1, inplace=True)"
   ]
  },
  {
   "cell_type": "code",
   "execution_count": 66,
   "metadata": {
    "collapsed": true
   },
   "outputs": [],
   "source": [
    "test_X = test_b"
   ]
  },
  {
   "cell_type": "code",
   "execution_count": 67,
   "metadata": {
    "collapsed": true
   },
   "outputs": [],
   "source": [
    "validation.drop(['id', 'date'], axis = 1, inplace = True)"
   ]
  },
  {
   "cell_type": "code",
   "execution_count": 68,
   "metadata": {},
   "outputs": [
    {
     "data": {
      "text/html": [
       "<div>\n",
       "<style>\n",
       "    .dataframe thead tr:only-child th {\n",
       "        text-align: right;\n",
       "    }\n",
       "\n",
       "    .dataframe thead th {\n",
       "        text-align: left;\n",
       "    }\n",
       "\n",
       "    .dataframe tbody tr th {\n",
       "        vertical-align: top;\n",
       "    }\n",
       "</style>\n",
       "<table border=\"1\" class=\"dataframe\">\n",
       "  <thead>\n",
       "    <tr style=\"text-align: right;\">\n",
       "      <th></th>\n",
       "      <th>label</th>\n",
       "      <th>f1</th>\n",
       "      <th>f2</th>\n",
       "      <th>f3</th>\n",
       "      <th>f4</th>\n",
       "      <th>f5</th>\n",
       "      <th>f6</th>\n",
       "      <th>f7</th>\n",
       "      <th>f8</th>\n",
       "      <th>f9</th>\n",
       "      <th>...</th>\n",
       "      <th>f288</th>\n",
       "      <th>f289</th>\n",
       "      <th>f290</th>\n",
       "      <th>f291</th>\n",
       "      <th>f292</th>\n",
       "      <th>f293</th>\n",
       "      <th>f294</th>\n",
       "      <th>f295</th>\n",
       "      <th>f296</th>\n",
       "      <th>f297</th>\n",
       "    </tr>\n",
       "  </thead>\n",
       "  <tbody>\n",
       "    <tr>\n",
       "      <th>0</th>\n",
       "      <td>0</td>\n",
       "      <td>0</td>\n",
       "      <td>0</td>\n",
       "      <td>0</td>\n",
       "      <td>0</td>\n",
       "      <td>100807.0</td>\n",
       "      <td>0</td>\n",
       "      <td>5</td>\n",
       "      <td>1</td>\n",
       "      <td>1</td>\n",
       "      <td>...</td>\n",
       "      <td>301.0</td>\n",
       "      <td>312.0</td>\n",
       "      <td>328.0</td>\n",
       "      <td>85.0</td>\n",
       "      <td>302.0</td>\n",
       "      <td>201.0</td>\n",
       "      <td>203.0</td>\n",
       "      <td>203.0</td>\n",
       "      <td>61.0</td>\n",
       "      <td>201.0</td>\n",
       "    </tr>\n",
       "    <tr>\n",
       "      <th>2</th>\n",
       "      <td>0</td>\n",
       "      <td>0</td>\n",
       "      <td>0</td>\n",
       "      <td>1</td>\n",
       "      <td>0</td>\n",
       "      <td>100102.0</td>\n",
       "      <td>0</td>\n",
       "      <td>6</td>\n",
       "      <td>1</td>\n",
       "      <td>0</td>\n",
       "      <td>...</td>\n",
       "      <td>NaN</td>\n",
       "      <td>NaN</td>\n",
       "      <td>NaN</td>\n",
       "      <td>NaN</td>\n",
       "      <td>NaN</td>\n",
       "      <td>NaN</td>\n",
       "      <td>NaN</td>\n",
       "      <td>NaN</td>\n",
       "      <td>NaN</td>\n",
       "      <td>NaN</td>\n",
       "    </tr>\n",
       "    <tr>\n",
       "      <th>3</th>\n",
       "      <td>0</td>\n",
       "      <td>0</td>\n",
       "      <td>0</td>\n",
       "      <td>0</td>\n",
       "      <td>1</td>\n",
       "      <td>100807.0</td>\n",
       "      <td>1</td>\n",
       "      <td>4</td>\n",
       "      <td>1</td>\n",
       "      <td>2</td>\n",
       "      <td>...</td>\n",
       "      <td>302.0</td>\n",
       "      <td>322.0</td>\n",
       "      <td>341.0</td>\n",
       "      <td>57.0</td>\n",
       "      <td>251.0</td>\n",
       "      <td>175.0</td>\n",
       "      <td>176.0</td>\n",
       "      <td>176.0</td>\n",
       "      <td>49.0</td>\n",
       "      <td>150.0</td>\n",
       "    </tr>\n",
       "    <tr>\n",
       "      <th>7</th>\n",
       "      <td>0</td>\n",
       "      <td>1</td>\n",
       "      <td>0</td>\n",
       "      <td>0</td>\n",
       "      <td>1</td>\n",
       "      <td>100802.0</td>\n",
       "      <td>0</td>\n",
       "      <td>6</td>\n",
       "      <td>2</td>\n",
       "      <td>0</td>\n",
       "      <td>...</td>\n",
       "      <td>301.0</td>\n",
       "      <td>314.0</td>\n",
       "      <td>321.0</td>\n",
       "      <td>150.0</td>\n",
       "      <td>302.0</td>\n",
       "      <td>189.0</td>\n",
       "      <td>188.0</td>\n",
       "      <td>189.0</td>\n",
       "      <td>92.0</td>\n",
       "      <td>188.0</td>\n",
       "    </tr>\n",
       "    <tr>\n",
       "      <th>10</th>\n",
       "      <td>0</td>\n",
       "      <td>0</td>\n",
       "      <td>0</td>\n",
       "      <td>1</td>\n",
       "      <td>1</td>\n",
       "      <td>100807.0</td>\n",
       "      <td>0</td>\n",
       "      <td>1</td>\n",
       "      <td>1</td>\n",
       "      <td>1</td>\n",
       "      <td>...</td>\n",
       "      <td>302.0</td>\n",
       "      <td>305.0</td>\n",
       "      <td>321.0</td>\n",
       "      <td>246.0</td>\n",
       "      <td>301.0</td>\n",
       "      <td>132.0</td>\n",
       "      <td>133.0</td>\n",
       "      <td>133.0</td>\n",
       "      <td>100.0</td>\n",
       "      <td>131.0</td>\n",
       "    </tr>\n",
       "  </tbody>\n",
       "</table>\n",
       "<p>5 rows × 298 columns</p>\n",
       "</div>"
      ],
      "text/plain": [
       "    label  f1  f2  f3  f4        f5  f6  f7  f8  f9  ...     f288   f289  \\\n",
       "0       0   0   0   0   0  100807.0   0   5   1   1  ...    301.0  312.0   \n",
       "2       0   0   0   1   0  100102.0   0   6   1   0  ...      NaN    NaN   \n",
       "3       0   0   0   0   1  100807.0   1   4   1   2  ...    302.0  322.0   \n",
       "7       0   1   0   0   1  100802.0   0   6   2   0  ...    301.0  314.0   \n",
       "10      0   0   0   1   1  100807.0   0   1   1   1  ...    302.0  305.0   \n",
       "\n",
       "     f290   f291   f292   f293   f294   f295   f296   f297  \n",
       "0   328.0   85.0  302.0  201.0  203.0  203.0   61.0  201.0  \n",
       "2     NaN    NaN    NaN    NaN    NaN    NaN    NaN    NaN  \n",
       "3   341.0   57.0  251.0  175.0  176.0  176.0   49.0  150.0  \n",
       "7   321.0  150.0  302.0  189.0  188.0  189.0   92.0  188.0  \n",
       "10  321.0  246.0  301.0  132.0  133.0  133.0  100.0  131.0  \n",
       "\n",
       "[5 rows x 298 columns]"
      ]
     },
     "execution_count": 68,
     "metadata": {},
     "output_type": "execute_result"
    }
   ],
   "source": [
    "validation.head()"
   ]
  },
  {
   "cell_type": "code",
   "execution_count": 69,
   "metadata": {
    "collapsed": true
   },
   "outputs": [],
   "source": [
    "train_Y = train.pop('label').values\n",
    "train_X = train"
   ]
  },
  {
   "cell_type": "code",
   "execution_count": 70,
   "metadata": {
    "collapsed": true
   },
   "outputs": [],
   "source": [
    "validation_Y = validation.pop('label').values\n",
    "validation_X = validation"
   ]
  },
  {
   "cell_type": "code",
   "execution_count": 71,
   "metadata": {},
   "outputs": [
    {
     "name": "stdout",
     "output_type": "stream",
     "text": [
      "[0]\tvalidation_0-auc:0.895891\n",
      "Will train until validation_0-auc hasn't improved in 10 rounds.\n",
      "[1]\tvalidation_0-auc:0.908913\n",
      "[2]\tvalidation_0-auc:0.913598\n",
      "[3]\tvalidation_0-auc:0.913932\n",
      "[4]\tvalidation_0-auc:0.913945\n",
      "[5]\tvalidation_0-auc:0.913628\n",
      "[6]\tvalidation_0-auc:0.938287\n",
      "[7]\tvalidation_0-auc:0.939689\n",
      "[8]\tvalidation_0-auc:0.940614\n",
      "[9]\tvalidation_0-auc:0.94145\n",
      "[10]\tvalidation_0-auc:0.94784\n",
      "[11]\tvalidation_0-auc:0.94724\n",
      "[12]\tvalidation_0-auc:0.949448\n",
      "[13]\tvalidation_0-auc:0.950167\n",
      "[14]\tvalidation_0-auc:0.950463\n",
      "[15]\tvalidation_0-auc:0.950399\n",
      "[16]\tvalidation_0-auc:0.950307\n",
      "[17]\tvalidation_0-auc:0.950548\n",
      "[18]\tvalidation_0-auc:0.951283\n",
      "[19]\tvalidation_0-auc:0.951608\n",
      "[20]\tvalidation_0-auc:0.951736\n",
      "[21]\tvalidation_0-auc:0.953509\n",
      "[22]\tvalidation_0-auc:0.955622\n",
      "[23]\tvalidation_0-auc:0.955697\n",
      "[24]\tvalidation_0-auc:0.955893\n",
      "[25]\tvalidation_0-auc:0.955679\n",
      "[26]\tvalidation_0-auc:0.955659\n",
      "[27]\tvalidation_0-auc:0.956002\n",
      "[28]\tvalidation_0-auc:0.956395\n",
      "[29]\tvalidation_0-auc:0.956794\n",
      "[30]\tvalidation_0-auc:0.956811\n",
      "[31]\tvalidation_0-auc:0.957868\n",
      "[32]\tvalidation_0-auc:0.958341\n",
      "[33]\tvalidation_0-auc:0.958535\n",
      "[34]\tvalidation_0-auc:0.959028\n",
      "[35]\tvalidation_0-auc:0.958907\n",
      "[36]\tvalidation_0-auc:0.959376\n",
      "[37]\tvalidation_0-auc:0.959832\n",
      "[38]\tvalidation_0-auc:0.959922\n",
      "[39]\tvalidation_0-auc:0.960627\n",
      "[40]\tvalidation_0-auc:0.961753\n",
      "[41]\tvalidation_0-auc:0.961811\n",
      "[42]\tvalidation_0-auc:0.962982\n",
      "[43]\tvalidation_0-auc:0.963638\n",
      "[44]\tvalidation_0-auc:0.963393\n",
      "[45]\tvalidation_0-auc:0.963659\n",
      "[46]\tvalidation_0-auc:0.964086\n",
      "[47]\tvalidation_0-auc:0.964798\n",
      "[48]\tvalidation_0-auc:0.965222\n",
      "[49]\tvalidation_0-auc:0.965384\n",
      "[50]\tvalidation_0-auc:0.965714\n",
      "[51]\tvalidation_0-auc:0.966083\n",
      "[52]\tvalidation_0-auc:0.966312\n",
      "[53]\tvalidation_0-auc:0.966804\n",
      "[54]\tvalidation_0-auc:0.967249\n",
      "[55]\tvalidation_0-auc:0.967549\n",
      "[56]\tvalidation_0-auc:0.96815\n",
      "[57]\tvalidation_0-auc:0.96828\n",
      "[58]\tvalidation_0-auc:0.968731\n",
      "[59]\tvalidation_0-auc:0.96897\n",
      "[60]\tvalidation_0-auc:0.969223\n",
      "[61]\tvalidation_0-auc:0.969559\n",
      "[62]\tvalidation_0-auc:0.969759\n",
      "[63]\tvalidation_0-auc:0.969859\n",
      "[64]\tvalidation_0-auc:0.969995\n",
      "[65]\tvalidation_0-auc:0.970157\n",
      "[66]\tvalidation_0-auc:0.970266\n",
      "[67]\tvalidation_0-auc:0.970424\n",
      "[68]\tvalidation_0-auc:0.970563\n",
      "[69]\tvalidation_0-auc:0.970662\n",
      "[70]\tvalidation_0-auc:0.970865\n",
      "[71]\tvalidation_0-auc:0.971008\n",
      "[72]\tvalidation_0-auc:0.970995\n",
      "[73]\tvalidation_0-auc:0.971196\n",
      "[74]\tvalidation_0-auc:0.971333\n",
      "[75]\tvalidation_0-auc:0.971504\n",
      "[76]\tvalidation_0-auc:0.971752\n",
      "[77]\tvalidation_0-auc:0.971877\n",
      "[78]\tvalidation_0-auc:0.972015\n",
      "[79]\tvalidation_0-auc:0.972024\n",
      "[80]\tvalidation_0-auc:0.972152\n",
      "[81]\tvalidation_0-auc:0.972297\n",
      "[82]\tvalidation_0-auc:0.972403\n",
      "[83]\tvalidation_0-auc:0.972491\n",
      "[84]\tvalidation_0-auc:0.972593\n",
      "[85]\tvalidation_0-auc:0.97269\n",
      "[86]\tvalidation_0-auc:0.972759\n",
      "[87]\tvalidation_0-auc:0.972718\n",
      "[88]\tvalidation_0-auc:0.972735\n",
      "[89]\tvalidation_0-auc:0.972763\n",
      "[90]\tvalidation_0-auc:0.972828\n",
      "[91]\tvalidation_0-auc:0.972948\n",
      "[92]\tvalidation_0-auc:0.973128\n",
      "[93]\tvalidation_0-auc:0.9733\n",
      "[94]\tvalidation_0-auc:0.973397\n",
      "[95]\tvalidation_0-auc:0.973364\n",
      "[96]\tvalidation_0-auc:0.973378\n",
      "[97]\tvalidation_0-auc:0.973522\n",
      "[98]\tvalidation_0-auc:0.973531\n",
      "[99]\tvalidation_0-auc:0.973574\n"
     ]
    },
    {
     "data": {
      "text/plain": [
       "XGBClassifier(base_score=0.5, booster='gbtree', colsample_bylevel=1,\n",
       "       colsample_bytree=1, gamma=0, learning_rate=0.1, max_delta_step=0,\n",
       "       max_depth=3, min_child_weight=1, missing=None, n_estimators=100,\n",
       "       n_jobs=1, nthread=None, objective='binary:logistic', random_state=0,\n",
       "       reg_alpha=0, reg_lambda=1, scale_pos_weight=1, seed=None,\n",
       "       silent=True, subsample=1)"
      ]
     },
     "execution_count": 71,
     "metadata": {},
     "output_type": "execute_result"
    }
   ],
   "source": [
    "from xgboost import XGBClassifier\n",
    "model = XGBClassifier()\n",
    "eval_set = [(validation_X, validation_Y)]\n",
    "model.fit(train_X, train_Y, early_stopping_rounds=10, eval_metric=\"auc\", eval_set=eval_set)"
   ]
  },
  {
   "cell_type": "code",
   "execution_count": 72,
   "metadata": {
    "collapsed": true
   },
   "outputs": [],
   "source": [
    "test_pred = model.predict(test_X)"
   ]
  },
  {
   "cell_type": "code",
   "execution_count": 73,
   "metadata": {},
   "outputs": [
    {
     "data": {
      "text/plain": [
       "(500538,)"
      ]
     },
     "execution_count": 73,
     "metadata": {},
     "output_type": "execute_result"
    }
   ],
   "source": [
    "test_pred.shape"
   ]
  },
  {
   "cell_type": "code",
   "execution_count": 74,
   "metadata": {
    "collapsed": true
   },
   "outputs": [],
   "source": [
    "rst = pd.DataFrame()\n",
    "rst['id'] = test_ids\n",
    "rst['score'] = test_pred"
   ]
  },
  {
   "cell_type": "code",
   "execution_count": 76,
   "metadata": {
    "collapsed": true
   },
   "outputs": [],
   "source": [
    "rst[['id', 'score']].to_csv('/root/ant/xgb_ant_b.csv', index=False, sep=',')"
   ]
  },
  {
   "cell_type": "code",
   "execution_count": 92,
   "metadata": {
    "collapsed": true
   },
   "outputs": [],
   "source": [
    "test_pred_1 = model.predict_proba(test_X)"
   ]
  },
  {
   "cell_type": "code",
   "execution_count": 97,
   "metadata": {},
   "outputs": [
    {
     "data": {
      "text/plain": [
       "array([ 0.00174808,  0.00046895,  0.00295542, ...,  0.00849326,\n",
       "        0.05301582,  0.00839583], dtype=float32)"
      ]
     },
     "execution_count": 97,
     "metadata": {},
     "output_type": "execute_result"
    }
   ],
   "source": [
    "test_pred_1[:,1]"
   ]
  },
  {
   "cell_type": "code",
   "execution_count": 98,
   "metadata": {},
   "outputs": [
    {
     "data": {
      "text/plain": [
       "array([[  9.98251915e-01,   1.74807943e-03],\n",
       "       [  9.99531031e-01,   4.68945189e-04],\n",
       "       [  9.97044563e-01,   2.95541622e-03],\n",
       "       ..., \n",
       "       [  9.91506755e-01,   8.49325862e-03],\n",
       "       [  9.46984172e-01,   5.30158170e-02],\n",
       "       [  9.91604149e-01,   8.39582644e-03]], dtype=float32)"
      ]
     },
     "execution_count": 98,
     "metadata": {},
     "output_type": "execute_result"
    }
   ],
   "source": [
    "test_pred_1"
   ]
  },
  {
   "cell_type": "code",
   "execution_count": 99,
   "metadata": {
    "collapsed": true
   },
   "outputs": [],
   "source": [
    "rst = pd.DataFrame()\n",
    "rst['id'] = test_ids\n",
    "rst['score'] = test_pred_1[:,1]"
   ]
  },
  {
   "cell_type": "code",
   "execution_count": 100,
   "metadata": {},
   "outputs": [
    {
     "data": {
      "text/html": [
       "<div>\n",
       "<style>\n",
       "    .dataframe thead tr:only-child th {\n",
       "        text-align: right;\n",
       "    }\n",
       "\n",
       "    .dataframe thead th {\n",
       "        text-align: left;\n",
       "    }\n",
       "\n",
       "    .dataframe tbody tr th {\n",
       "        vertical-align: top;\n",
       "    }\n",
       "</style>\n",
       "<table border=\"1\" class=\"dataframe\">\n",
       "  <thead>\n",
       "    <tr style=\"text-align: right;\">\n",
       "      <th></th>\n",
       "      <th>id</th>\n",
       "      <th>score</th>\n",
       "    </tr>\n",
       "  </thead>\n",
       "  <tbody>\n",
       "    <tr>\n",
       "      <th>0</th>\n",
       "      <td>661ae9a03c6c74feab2555c9987e140ae3f5421bd8e7a0...</td>\n",
       "      <td>0.001748</td>\n",
       "    </tr>\n",
       "    <tr>\n",
       "      <th>1</th>\n",
       "      <td>ada98d4358e72a27cc5e92f691a87a4fd62a7cda0387e2...</td>\n",
       "      <td>0.000469</td>\n",
       "    </tr>\n",
       "    <tr>\n",
       "      <th>2</th>\n",
       "      <td>e33675a962e5bf44d05a2b01903a4beb88a0c6385c05c6...</td>\n",
       "      <td>0.002955</td>\n",
       "    </tr>\n",
       "    <tr>\n",
       "      <th>3</th>\n",
       "      <td>4c5da176de7172dbd1ad0aa7edf9866548ec720d6c7318...</td>\n",
       "      <td>0.026871</td>\n",
       "    </tr>\n",
       "    <tr>\n",
       "      <th>4</th>\n",
       "      <td>fa39e3491900d49b862d30b5dbcd0b1c30bb4ff0d96396...</td>\n",
       "      <td>0.020080</td>\n",
       "    </tr>\n",
       "  </tbody>\n",
       "</table>\n",
       "</div>"
      ],
      "text/plain": [
       "                                                  id     score\n",
       "0  661ae9a03c6c74feab2555c9987e140ae3f5421bd8e7a0...  0.001748\n",
       "1  ada98d4358e72a27cc5e92f691a87a4fd62a7cda0387e2...  0.000469\n",
       "2  e33675a962e5bf44d05a2b01903a4beb88a0c6385c05c6...  0.002955\n",
       "3  4c5da176de7172dbd1ad0aa7edf9866548ec720d6c7318...  0.026871\n",
       "4  fa39e3491900d49b862d30b5dbcd0b1c30bb4ff0d96396...  0.020080"
      ]
     },
     "execution_count": 100,
     "metadata": {},
     "output_type": "execute_result"
    }
   ],
   "source": [
    "rst.head()"
   ]
  },
  {
   "cell_type": "code",
   "execution_count": 101,
   "metadata": {
    "collapsed": true
   },
   "outputs": [],
   "source": [
    "rst[['id', 'score']].to_csv('/root/ant/xgb_ant_b.csv', index=False, sep=',')"
   ]
  },
  {
   "cell_type": "code",
   "execution_count": null,
   "metadata": {
    "collapsed": true
   },
   "outputs": [],
   "source": []
  }
 ],
 "metadata": {
  "kernelspec": {
   "display_name": "Python 2",
   "language": "python",
   "name": "python2"
  },
  "language_info": {
   "codemirror_mode": {
    "name": "ipython",
    "version": 2
   },
   "file_extension": ".py",
   "mimetype": "text/x-python",
   "name": "python",
   "nbconvert_exporter": "python",
   "pygments_lexer": "ipython2",
   "version": "2.7.13"
  }
 },
 "nbformat": 4,
 "nbformat_minor": 2
}
